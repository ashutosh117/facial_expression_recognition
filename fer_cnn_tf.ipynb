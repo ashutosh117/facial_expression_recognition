{
 "cells": [
  {
   "cell_type": "code",
   "execution_count": 1,
   "metadata": {},
   "outputs": [],
   "source": [
    "#prediction of facial  expression using Convolutional neural network in tensorflow and python 2\n",
    "#data set : https://www.kaggle.com/c/challenges-in-representation-learning-facial-expression-recognition-challenge\n",
    "from __future__ import division\n",
    "import numpy as np\n",
    "import matplotlib.pyplot as plt\n",
    "import pandas as pd\n",
    "\n",
    "import tensorflow as tf\n",
    "\n",
    "from util import *\n",
    "from cn_tf import CNN\n",
    "\n",
    "%matplotlib inline\n",
    "%load_ext autoreload\n",
    "%autoreload 2"
   ]
  },
  {
   "cell_type": "code",
   "execution_count": 2,
   "metadata": {},
   "outputs": [],
   "source": [
    "X,Y,X_test,Y_test = get_image_data()"
   ]
  },
  {
   "cell_type": "code",
   "execution_count": 3,
   "metadata": {},
   "outputs": [
    {
     "name": "stdout",
     "output_type": "stream",
     "text": [
      "(32298, 48, 48, 1) (32298,)\n",
      "(3589, 48, 48, 1) (3589,)\n"
     ]
    }
   ],
   "source": [
    "print X.shape,Y.shape\n",
    "print X_test.shape,Y_test.shape"
   ]
  },
  {
   "cell_type": "code",
   "execution_count": 4,
   "metadata": {},
   "outputs": [
    {
     "name": "stdout",
     "output_type": "stream",
     "text": [
      "(32298, 48, 48, 1) (32298, 7)\n",
      "(3589, 48, 48, 1) (3589, 7)\n"
     ]
    }
   ],
   "source": [
    "Y_ind = y2ind(Y)\n",
    "Y_test_ind = y2ind(Y_test)\n",
    "print X.shape,Y_ind.shape\n",
    "print X_test.shape,Y_test_ind.shape"
   ]
  },
  {
   "cell_type": "code",
   "execution_count": 5,
   "metadata": {},
   "outputs": [],
   "source": [
    "cls = [(20,5,5),(20,5,5)]\n",
    "hls = [500,300]\n",
    "\n",
    "cnn = CNN(cls,hls)"
   ]
  },
  {
   "cell_type": "code",
   "execution_count": 6,
   "metadata": {},
   "outputs": [
    {
     "name": "stdout",
     "output_type": "stream",
     "text": [
      "\n",
      "\n",
      "Epoch : 0,iter : 0,Training loss : 18.3366,Valid err : 0.7530\n",
      "\n",
      "\n",
      "Epoch : 0,iter : 50,Training loss : 18.0223,Valid err : 0.7990\n",
      "\n",
      "\n",
      "Epoch : 0,iter : 100,Training loss : 17.9420,Valid err : 0.7800\n",
      "\n",
      "\n",
      "Epoch : 0,iter : 150,Training loss : 17.7752,Valid err : 0.7500\n",
      "\n",
      "\n",
      "Epoch : 0,iter : 200,Training loss : 17.5901,Valid err : 0.7320\n",
      "\n",
      "\n",
      "Epoch : 1,iter : 0,Training loss : 17.4878,Valid err : 0.7190\n",
      "\n",
      "\n",
      "Epoch : 1,iter : 50,Training loss : 17.3910,Valid err : 0.7200\n",
      "\n",
      "\n",
      "Epoch : 1,iter : 100,Training loss : 17.1470,Valid err : 0.7010\n",
      "\n",
      "\n",
      "Epoch : 1,iter : 150,Training loss : 16.8954,Valid err : 0.6990\n",
      "\n",
      "\n",
      "Epoch : 1,iter : 200,Training loss : 16.7024,Valid err : 0.6740\n",
      "\n",
      "\n",
      "Epoch : 2,iter : 0,Training loss : 16.5496,Valid err : 0.6590\n",
      "\n",
      "\n",
      "Epoch : 2,iter : 50,Training loss : 16.4765,Valid err : 0.6760\n",
      "\n",
      "\n",
      "Epoch : 2,iter : 100,Training loss : 16.1272,Valid err : 0.6490\n",
      "\n",
      "\n",
      "Epoch : 2,iter : 150,Training loss : 15.9402,Valid err : 0.6550\n",
      "\n",
      "\n",
      "Epoch : 2,iter : 200,Training loss : 15.7297,Valid err : 0.6310\n",
      "\n",
      "\n",
      "Epoch : 3,iter : 0,Training loss : 15.5946,Valid err : 0.6240\n",
      "\n",
      "\n",
      "Epoch : 3,iter : 50,Training loss : 15.5066,Valid err : 0.6530\n",
      "\n",
      "\n",
      "Epoch : 3,iter : 100,Training loss : 15.1513,Valid err : 0.6290\n",
      "\n",
      "\n",
      "Epoch : 3,iter : 150,Training loss : 14.9324,Valid err : 0.6250\n",
      "\n",
      "\n",
      "Epoch : 3,iter : 200,Training loss : 14.7263,Valid err : 0.6230\n",
      "\n",
      "\n",
      "Epoch : 4,iter : 0,Training loss : 14.5740,Valid err : 0.6060\n",
      "\n",
      "\n",
      "Epoch : 4,iter : 50,Training loss : 14.4805,Valid err : 0.6130\n",
      "\n",
      "\n",
      "Epoch : 4,iter : 100,Training loss : 14.1469,Valid err : 0.5890\n",
      "\n",
      "\n",
      "Epoch : 4,iter : 150,Training loss : 13.8919,Valid err : 0.6090\n",
      "\n",
      "\n",
      "Epoch : 4,iter : 200,Training loss : 13.6815,Valid err : 0.5980\n"
     ]
    },
    {
     "data": {
      "image/png": "[encoded data removed]",
      "text/plain": [
       "<matplotlib.figure.Figure at 0x7fd4aca1ecd0>"
      ]
     },
     "metadata": {},
     "output_type": "display_data"
    }
   ],
   "source": [
    "cnn.fit(X,Y_ind,batch_sz=128,epochs=5,lr = 0.0001,reg = 0.01,print_period = 50)"
   ]
  },
  {
   "cell_type": "code",
   "execution_count": 7,
   "metadata": {},
   "outputs": [],
   "source": [
    "#takes too much time ,did not train further \n",
    "#ive got other things to do in this century"
   ]
  }
 ],
 "metadata": {
  "kernelspec": {
   "display_name": "Python 2",
   "language": "python",
   "name": "python2"
  },
  "language_info": {
   "codemirror_mode": {
    "name": "ipython",
    "version": 2
   },
   "file_extension": ".py",
   "mimetype": "text/x-python",
   "name": "python",
   "nbconvert_exporter": "python",
   "pygments_lexer": "ipython2",
   "version": "2.7.14"
  }
 },
 "nbformat": 4,
 "nbformat_minor": 2
}
