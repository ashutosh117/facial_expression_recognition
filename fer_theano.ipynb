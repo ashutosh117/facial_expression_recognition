{
 "cells": [
  {
   "cell_type": "code",
   "execution_count": 1,
   "metadata": {},
   "outputs": [],
   "source": [
    "#prediction of facial  expression using Dense neural network in theano and python 2\n",
    "#dataset: https://www.kaggle.com/c/challenges-in-representation-learning-facial-expression-recognition-challenge\n",
    "from __future__ import division\n",
    "import numpy as np\n",
    "import pandas as pd\n",
    "import matplotlib.pyplot as plt\n",
    "import seaborn as  sns\n",
    "from util import *\n",
    "\n",
    "import theano \n",
    "import theano.tensor as T\n",
    "from ann_theano import ANN\n",
    "\n",
    "sns.set()\n",
    "%matplotlib inline\n",
    "%load_ext autoreload \n",
    "%autoreload 2"
   ]
  },
  {
   "cell_type": "code",
   "execution_count": 2,
   "metadata": {},
   "outputs": [],
   "source": [
    "X_train,Y_train,X_valid,Y_valid,X_test,Y_test = get_normalized_data()"
   ]
  },
  {
   "cell_type": "code",
   "execution_count": 3,
   "metadata": {},
   "outputs": [],
   "source": [
    "Y_train_ind,Y_valid_ind = y2ind(Y_train),y2ind(Y_valid)"
   ]
  },
  {
   "cell_type": "code",
   "execution_count": 4,
   "metadata": {},
   "outputs": [
    {
     "name": "stdout",
     "output_type": "stream",
     "text": [
      "(28709, 2304) (28709, 7)\n",
      "(3589, 2304) (3589, 7)\n",
      "(3589, 2304) (3589,)\n"
     ]
    }
   ],
   "source": [
    "print X_train.shape,Y_train_ind.shape\n",
    "print X_valid.shape,Y_valid_ind.shape\n",
    "print X_test.shape,Y_test.shape"
   ]
  },
  {
   "cell_type": "code",
   "execution_count": 7,
   "metadata": {},
   "outputs": [
    {
     "name": "stdout",
     "output_type": "stream",
     "text": [
      "(28700, 2304) (28700, 7)\n"
     ]
    }
   ],
   "source": [
    "X_train = X_train[:-9]\n",
    "Y_train_ind = Y_train_ind[:-9]\n",
    "print X_train.shape,Y_train_ind.shape"
   ]
  },
  {
   "cell_type": "code",
   "execution_count": 8,
   "metadata": {},
   "outputs": [],
   "source": [
    "hls = [200,100,50]\n",
    "ann = ANN(hls)"
   ]
  },
  {
   "cell_type": "code",
   "execution_count": 9,
   "metadata": {},
   "outputs": [
    {
     "name": "stdout",
     "output_type": "stream",
     "text": [
      "Epoch : 0, Training loss : 7.2114,Validation Error : 0.7356\n",
      "Train Error : 0.6934\n",
      "Epoch : 1, Training loss : 5.6682,Validation Error : 0.6982\n",
      "Train Error : 0.6725\n",
      "Epoch : 2, Training loss : 4.4733,Validation Error : 0.6787\n",
      "Train Error : 0.6481\n",
      "Epoch : 3, Training loss : 3.5454,Validation Error : 0.6740\n",
      "Train Error : 0.6516\n",
      "Epoch : 4, Training loss : 2.8239,Validation Error : 0.6757\n",
      "Train Error : 0.6794\n"
     ]
    },
    {
     "data": {
      "image/png": "[encoded data removed]",
      "text/plain": [
       "<matplotlib.figure.Figure at 0x7f871305cdd0>"
      ]
     },
     "metadata": {},
     "output_type": "display_data"
    }
   ],
   "source": [
    "ann.fit(X_train,Y_train_ind,X_valid,Y_valid_ind,287,epochs = 5,lr=0.05,reg = 0.1,show_fig=True,print_period = 1)"
   ]
  },
  {
   "cell_type": "code",
   "execution_count": null,
   "metadata": {},
   "outputs": [],
   "source": []
  }
 ],
 "metadata": {
  "kernelspec": {
   "display_name": "Python 2",
   "language": "python",
   "name": "python2"
  },
  "language_info": {
   "codemirror_mode": {
    "name": "ipython",
    "version": 2
   },
   "file_extension": ".py",
   "mimetype": "text/x-python",
   "name": "python",
   "nbconvert_exporter": "python",
   "pygments_lexer": "ipython2",
   "version": "2.7.14"
  }
 },
 "nbformat": 4,
 "nbformat_minor": 2
}
