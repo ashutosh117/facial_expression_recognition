{
 "cells": [
  {
   "cell_type": "code",
   "execution_count": 1,
   "metadata": {},
   "outputs": [
    {
     "name": "stderr",
     "output_type": "stream",
     "text": [
      "Using TensorFlow backend.\n"
     ]
    }
   ],
   "source": [
    "#facial expression prediction using convolutional neural network in keras\n",
    "#data set : https://www.kaggle.com/c/challenges-in-representation-learning-facial-expression-recognition-challenge\n",
    "import numpy as np\n",
    "import matplotlib.pyplot as plt\n",
    "import pandas as pd\n",
    "\n",
    "%matplotlib inline\n",
    "\n",
    "from keras.models import Sequential\n",
    "from keras.layers import Dense,Convolution2D,MaxPooling2D,Flatten\n",
    "\n",
    "from util import *\n",
    "\n",
    "%load_ext autoreload\n",
    "%autoreload 2"
   ]
  },
  {
   "cell_type": "code",
   "execution_count": 2,
   "metadata": {},
   "outputs": [
    {
     "name": "stdout",
     "output_type": "stream",
     "text": [
      "(30298, 48, 48, 1) (30298,)\n",
      "(2000, 48, 48, 1) (2000,)\n",
      "(3589, 48, 48, 1) (3589,)\n"
     ]
    }
   ],
   "source": [
    "X_train,Y_train,X_test,Y_test = get_image_data()\n",
    "\n",
    "#split the training set into training and validation set\n",
    "X_train,X_valid = X_train[:-2000],X_train[-2000:]\n",
    "Y_train,Y_valid = Y_train[:-2000],Y_train[-2000:]\n",
    "\n",
    "print X_train.shape,Y_train.shape\n",
    "print X_valid.shape,Y_valid.shape\n",
    "print X_test.shape,Y_test.shape"
   ]
  },
  {
   "cell_type": "code",
   "execution_count": 3,
   "metadata": {},
   "outputs": [
    {
     "name": "stdout",
     "output_type": "stream",
     "text": [
      "(30298, 7)\n",
      "(2000, 7)\n"
     ]
    }
   ],
   "source": [
    "Y_train_ind = y2ind(Y_train)\n",
    "Y_valid_ind = y2ind(Y_valid)\n",
    "\n",
    "print Y_train_ind.shape\n",
    "print Y_valid_ind.shape"
   ]
  },
  {
   "cell_type": "code",
   "execution_count": null,
   "metadata": {},
   "outputs": [],
   "source": [
    "#The model\n",
    "model = Sequential()\n",
    "\n",
    "#1st convolution layer\n",
    "model.add(Convolution2D(20,(5,5),input_shape = (48,48,1),activation='relu'))\n",
    "model.add(MaxPooling2D(pool_size = (2,2)))\n",
    "\n",
    "#2nd convolution layer\n",
    "model.add(Convolution2D(20,(5,5),activation='relu'))\n",
    "model.add(MaxPooling2D(pool_size = (2,2)))\n",
    "\n",
    "#flatten to conect \n",
    "model.add(Flatten())\n",
    "\n",
    "#add fully connected layers\n",
    "model.add(Dense(500,activation = 'relu'))\n",
    "model.add(Dense(300,activation = 'relu'))\n",
    "\n",
    "#final output layer\n",
    "model.add(Dense(7,activation = 'softmax'))\n",
    "\n",
    "#compile the model\n",
    "model.compile(optimizer='adam',loss='categorical_crossentropy',metrics = ['accuracy'])"
   ]
  },
  {
   "cell_type": "code",
   "execution_count": null,
   "metadata": {},
   "outputs": [
    {
     "name": "stdout",
     "output_type": "stream",
     "text": [
      "Train on 30298 samples, validate on 2000 samples\n",
      "Epoch 1/5\n",
      "30298/30298 [==============================] - 130s 4ms/step - loss: 1.6140 - acc: 0.3593 - val_loss: 1.4614 - val_acc: 0.4420\n",
      "Epoch 2/5\n",
      "30298/30298 [==============================] - 151s 5ms/step - loss: 1.3908 - acc: 0.4630 - val_loss: 1.3378 - val_acc: 0.4775\n",
      "Epoch 3/5\n",
      "30298/30298 [==============================] - 185s 6ms/step - loss: 1.2639 - acc: 0.5154 - val_loss: 1.2636 - val_acc: 0.4995\n",
      "Epoch 4/5\n",
      "30298/30298 [==============================] - 187s 6ms/step - loss: 0.9811 - acc: 0.6326 - val_loss: 1.3105 - val_acc: 0.5350\n"
     ]
    },
    {
     "data": {
      "text/plain": [
       "<keras.callbacks.History at 0x7fd51af5aa90>"
      ]
     },
     "execution_count": 5,
     "metadata": {},
     "output_type": "execute_result"
    }
   ],
   "source": [
    "model.fit(X_train,Y_train_ind,epochs = 5,validation_data=(X_valid,Y_valid_ind))"
   ]
  },
  {
   "cell_type": "code",
   "execution_count": null,
   "metadata": {},
   "outputs": [],
   "source": [
    "preds = model.predict(X_test)"
   ]
  },
  {
   "cell_type": "code",
   "execution_count": null,
   "metadata": {},
   "outputs": [],
   "source": [
    "preds = np.argmax(preds,axis=1)"
   ]
  },
  {
   "cell_type": "code",
   "execution_count": null,
   "metadata": {},
   "outputs": [],
   "source": [
    "from sklearn.metrics import accuracy_score"
   ]
  },
  {
   "cell_type": "code",
   "execution_count": null,
   "metadata": {},
   "outputs": [
    {
     "data": {
      "text/plain": [
       "0.52326553357481198"
      ]
     },
     "execution_count": 9,
     "metadata": {},
     "output_type": "execute_result"
    }
   ],
   "source": [
    "accuracy_score(Y_test,preds)"
   ]
  }
 ],
 "metadata": {
  "kernelspec": {
   "display_name": "Python 2",
   "language": "python",
   "name": "python2"
  },
  "language_info": {
   "codemirror_mode": {
    "name": "ipython",
    "version": 2
   },
   "file_extension": ".py",
   "mimetype": "text/x-python",
   "name": "python",
   "nbconvert_exporter": "python",
   "pygments_lexer": "ipython2",
   "version": "2.7.14"
  }
 },
 "nbformat": 4,
 "nbformat_minor": 2
}
