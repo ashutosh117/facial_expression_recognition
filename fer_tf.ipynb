{
 "cells": [
  {
   "cell_type": "code",
   "execution_count": 1,
   "metadata": {},
   "outputs": [],
   "source": [
    "#prediction of facial expression using dense neural network in tensorflow and python 2\n",
    "#data set : https://www.kaggle.com/c/challenges-in-representation-learning-facial-expression-recognition-challenge\n",
    "from __future__ import division\n",
    "import numpy as np\n",
    "import pandas as pd\n",
    "import matplotlib.pyplot as plt\n",
    "from util import *\n",
    "import seaborn as sns\n",
    "\n",
    "import tensorflow as tf\n",
    "from ann_tf import ANN\n",
    "\n",
    "sns.set()\n",
    "%matplotlib inline\n",
    "%load_ext autoreload\n",
    "%autoreload 2"
   ]
  },
  {
   "cell_type": "code",
   "execution_count": 2,
   "metadata": {},
   "outputs": [],
   "source": [
    "X_train,Y_train,X_valid,Y_valid,X_test,Y_test = get_normalized_data()"
   ]
  },
  {
   "cell_type": "code",
   "execution_count": 3,
   "metadata": {},
   "outputs": [],
   "source": [
    "Y_valid_ind = y2ind(Y_valid)\n",
    "Y_train_ind = y2ind(Y_train)"
   ]
  },
  {
   "cell_type": "code",
   "execution_count": 4,
   "metadata": {},
   "outputs": [
    {
     "name": "stdout",
     "output_type": "stream",
     "text": [
      "(28709, 2304) (28709, 7)\n",
      "(3589, 2304) (3589, 7)\n",
      "(3589, 2304) (3589,)\n"
     ]
    }
   ],
   "source": [
    "print X_train.shape,Y_train_ind.shape\n",
    "print X_valid.shape,Y_valid_ind.shape\n",
    "print X_test.shape,Y_test.shape"
   ]
  },
  {
   "cell_type": "code",
   "execution_count": 5,
   "metadata": {},
   "outputs": [
    {
     "name": "stdout",
     "output_type": "stream",
     "text": [
      "(28700, 2304) (28700, 7)\n"
     ]
    }
   ],
   "source": [
    "X_train = X_train[:-9]\n",
    "Y_train_ind = Y_train_ind[:-9]\n",
    "print X_train.shape,Y_train_ind.shape"
   ]
  },
  {
   "cell_type": "code",
   "execution_count": 6,
   "metadata": {},
   "outputs": [],
   "source": [
    "hls = [2000,1000,500]\n",
    "ann = ANN(hls)"
   ]
  },
  {
   "cell_type": "code",
   "execution_count": 7,
   "metadata": {},
   "outputs": [
    {
     "name": "stdout",
     "output_type": "stream",
     "text": [
      "Epoch : 0,training loss : 33.7940,validation error : 0.6570\n",
      "train err : 0.6934\n",
      "Epoch : 1,training loss : 26.1160,validation error : 0.6052\n",
      "train err : 0.6028\n",
      "Epoch : 2,training loss : 16.1806,validation error : 0.5977\n",
      "train err : 0.6132\n",
      "Epoch : 3,training loss : 7.0469,validation error : 0.5871\n",
      "train err : 0.5714\n",
      "Epoch : 4,training loss : 2.4277,validation error : 0.5988\n",
      "train err : 0.6202\n"
     ]
    },
    {
     "data": {
      "image/png": "[encoded data removed]",
      "text/plain": [
       "<matplotlib.figure.Figure at 0x7f1df9e11610>"
      ]
     },
     "metadata": {},
     "output_type": "display_data"
    }
   ],
   "source": [
    "ann.fit(X_train,Y_train_ind,X_valid,Y_valid_ind,batch_sz=287,epochs = 5,lr = 0.001,reg = 0.01,print_period=1,show_fig=True)"
   ]
  },
  {
   "cell_type": "code",
   "execution_count": null,
   "metadata": {},
   "outputs": [],
   "source": []
  }
 ],
 "metadata": {
  "kernelspec": {
   "display_name": "Python 2",
   "language": "python",
   "name": "python2"
  },
  "language_info": {
   "codemirror_mode": {
    "name": "ipython",
    "version": 2
   },
   "file_extension": ".py",
   "mimetype": "text/x-python",
   "name": "python",
   "nbconvert_exporter": "python",
   "pygments_lexer": "ipython2",
   "version": "2.7.14"
  }
 },
 "nbformat": 4,
 "nbformat_minor": 2
}
