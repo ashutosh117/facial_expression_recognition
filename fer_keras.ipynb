{
 "cells": [
  {
   "cell_type": "code",
   "execution_count": 1,
   "metadata": {},
   "outputs": [],
   "source": [
    "#Facial expression prediction using Dense layers in keras and python 2\n",
    "#data set : https://www.kaggle.com/c/challenges-in-representation-learning-facial-expression-recognition-challenge\n",
    "import numpy as np\n",
    "import pandas as pd\n",
    "import matplotlib.pyplot as plt\n",
    "import seaborn as  sns\n",
    "from util import *\n",
    "\n",
    "sns.set()\n",
    "%matplotlib inline\n",
    "%load_ext autoreload \n",
    "%autoreload 2"
   ]
  },
  {
   "cell_type": "code",
   "execution_count": 2,
   "metadata": {},
   "outputs": [],
   "source": [
    "X_train,Y_train,X_valid,Y_valid,X_test,Y_test = get_normalized_data()"
   ]
  },
  {
   "cell_type": "code",
   "execution_count": 3,
   "metadata": {},
   "outputs": [
    {
     "name": "stdout",
     "output_type": "stream",
     "text": [
      "(28709, 7) (3589, 7)\n"
     ]
    }
   ],
   "source": [
    "Y_train_ind = y2ind(Y_train)\n",
    "Y_valid_ind = y2ind(Y_valid)\n",
    "print Y_train_ind.shape,Y_valid_ind.shape"
   ]
  },
  {
   "cell_type": "code",
   "execution_count": 4,
   "metadata": {},
   "outputs": [
    {
     "name": "stdout",
     "output_type": "stream",
     "text": [
      "(28709, 2304) (28709, 7)\n",
      "(3589, 2304) (3589, 7)\n",
      "(3589, 2304) (3589,)\n"
     ]
    }
   ],
   "source": [
    "print X_train.shape,Y_train_ind.shape\n",
    "print X_valid.shape,Y_valid_ind.shape\n",
    "print X_test.shape,Y_test.shape"
   ]
  },
  {
   "cell_type": "code",
   "execution_count": 5,
   "metadata": {},
   "outputs": [
    {
     "name": "stderr",
     "output_type": "stream",
     "text": [
      "Using TensorFlow backend.\n"
     ]
    }
   ],
   "source": [
    "from keras.models import Sequential\n",
    "from keras.layers import Dense"
   ]
  },
  {
   "cell_type": "code",
   "execution_count": null,
   "metadata": {},
   "outputs": [],
   "source": [
    "model = Sequential()\n",
    "\n",
    "model.add(Dense(units=2048,input_dim = 2304,activation='relu'))\n",
    "\n",
    "model.add(Dense(units = 1024,activation = 'relu'))\n",
    "\n",
    "#model.add(Dense(units = 512,activation = 'relu'))\n",
    "\n",
    "model.add(Dense(units = 128,activation = 'relu'))\n",
    "\n",
    "model.add(Dense(units = 7,activation='softmax'))\n",
    "\n",
    "model.compile(optimizer = 'adam',loss = 'categorical_crossentropy',metrics=['accuracy'])"
   ]
  },
  {
   "cell_type": "code",
   "execution_count": null,
   "metadata": {},
   "outputs": [
    {
     "name": "stdout",
     "output_type": "stream",
     "text": [
      "Train on 28709 samples, validate on 3589 samples\n",
      "Epoch 1/5\n",
      "28709/28709 [==============================] - 202s 7ms/step - loss: 1.7572 - acc: 0.3130 - val_loss: 1.6245 - val_acc: 0.3633\n",
      "Epoch 2/5\n",
      "28709/28709 [==============================] - 221s 8ms/step - loss: 1.6068 - acc: 0.3649 - val_loss: 1.6041 - val_acc: 0.3781\n",
      "Epoch 3/5\n",
      "28709/28709 [==============================] - 260s 9ms/step - loss: 1.5605 - acc: 0.3892 - val_loss: 1.5497 - val_acc: 0.3909\n",
      "Epoch 4/5\n",
      "28709/28709 [==============================] - 271s 9ms/step - loss: 1.4830 - acc: 0.4172 - val_loss: 1.5577 - val_acc: 0.3892\n"
     ]
    },
    {
     "data": {
      "text/plain": [
       "<keras.callbacks.History at 0x7ff5032bbbd0>"
      ]
     },
     "execution_count": 7,
     "metadata": {},
     "output_type": "execute_result"
    }
   ],
   "source": [
    "model.fit(X_train,Y_train_ind,epochs = 5,validation_data=(X_valid,Y_valid_ind))"
   ]
  },
  {
   "cell_type": "code",
   "execution_count": null,
   "metadata": {},
   "outputs": [],
   "source": [
    "preds = model.predict(X_test)"
   ]
  },
  {
   "cell_type": "code",
   "execution_count": null,
   "metadata": {},
   "outputs": [],
   "source": [
    "preds = np.argmax(preds,axis=1)"
   ]
  },
  {
   "cell_type": "code",
   "execution_count": null,
   "metadata": {},
   "outputs": [],
   "source": [
    "from sklearn.metrics import accuracy_score"
   ]
  },
  {
   "cell_type": "code",
   "execution_count": null,
   "metadata": {},
   "outputs": [
    {
     "data": {
      "text/plain": [
       "0.40484814711618833"
      ]
     },
     "execution_count": 11,
     "metadata": {},
     "output_type": "execute_result"
    }
   ],
   "source": [
    "accuracy_score(Y_test,preds)"
   ]
  }
 ],
 "metadata": {
  "kernelspec": {
   "display_name": "Python 2",
   "language": "python",
   "name": "python2"
  },
  "language_info": {
   "codemirror_mode": {
    "name": "ipython",
    "version": 2
   },
   "file_extension": ".py",
   "mimetype": "text/x-python",
   "name": "python",
   "nbconvert_exporter": "python",
   "pygments_lexer": "ipython2",
   "version": "2.7.14"
  }
 },
 "nbformat": 4,
 "nbformat_minor": 2
}
